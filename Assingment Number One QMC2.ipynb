{
 "cells": [
  {
   "cell_type": "markdown",
   "id": "64f992bd-e6d0-4dc2-88bd-fcdfd49a3461",
   "metadata": {},
   "source": [
    "# **Importing needed libaries**"
   ]
  },
  {
   "cell_type": "code",
   "execution_count": 84,
   "id": "c5212625-94d3-4314-bbe2-430a6977d6b2",
   "metadata": {},
   "outputs": [],
   "source": [
    "import qiskit as qs\n",
    "from qiskit.visualization import plot_histogram\n",
    "from qiskit import QuantumCircuit,transpile,assemble\n",
    "from qiskit_aer import AerSimulator\n",
    "import random"
   ]
  },
  {
   "cell_type": "markdown",
   "id": "91864eca-ad7a-4933-b57a-3c2d0ca03c0e",
   "metadata": {},
   "source": [
    "# **Making Deutsch's Algorithm**"
   ]
  },
  {
   "cell_type": "code",
   "execution_count": 90,
   "id": "bfe30a58-f947-4261-b777-475edb581d08",
   "metadata": {},
   "outputs": [],
   "source": [
    "def Quantum_Circuit():\n",
    "    # calling a random function to determine f(x) is constant or balance.\n",
    "    function_type = random.randint(0, 1)\n",
    "    # making a circuit with two starting qbits(one input registery) and one output (one output registry)\n",
    "    circuit = QuantumCircuit(2, 1)\n",
    "    #making |1> then turning it into |-> & putting the qbit into superposition\n",
    "    circuit.x(0)\n",
    "    circuit.h(0)\n",
    "    #putting a barrier so , the visualization is more organized\n",
    "    circuit.barrier()\n",
    "    #putting qbit into superposition\n",
    "    circuit.h(1)\n",
    "    #putting a barrier so , the visualization is more organized\n",
    "    circuit.barrier()\n",
    "    #so if function is constant \n",
    "    if function_type == 0:\n",
    "        # making a random constant f(x)\n",
    "        secret_function = random.randint(0, 1) \n",
    "        # if f(0) = 0 , f(1) = 0\n",
    "        #the xor of function and y is y.\n",
    "        #|y xor f(x)>\n",
    "        #so we will do nothing\n",
    "        if secret_function == 0:\n",
    "            pass\n",
    "        # if f(0) = 1 , f(1) = 1\n",
    "        # we will put the identity gate on y\n",
    "        else: \n",
    "           circuit.x(0)\n",
    "    #if function is balanced, we put a CNOT(controlled NOT) on the qubits,q1 is controlling the q0 \n",
    "    #if q1 is |1> then q0 is flipped \n",
    "    else:\n",
    "        circuit.cx(1, 0)\n",
    "    #putting a barrier so , the visualization is more organized\n",
    "    circuit.barrier()\n",
    "    #now turning q0 from |-> to |1>&|0> by hadamard\n",
    "    circuit.h(1)\n",
    "    #measuring the q1\n",
    "    circuit.measure(1, 0)\n",
    "    return circuit"
   ]
  },
  {
   "cell_type": "markdown",
   "id": "6a5d8872-8ae9-456c-b7ec-2da9fe039be9",
   "metadata": {},
   "source": [
    "# **Making some circuits and runing and measuning them**"
   ]
  },
  {
   "cell_type": "code",
   "execution_count": 60,
   "id": "71cf08af-9f31-4c9f-bba4-72ca0b56b11d",
   "metadata": {},
   "outputs": [],
   "source": [
    "q_circuit_01 = Quantum_Circuit()"
   ]
  },
  {
   "cell_type": "code",
   "execution_count": 62,
   "id": "fef9cf55-04f4-4d3b-aae4-292fe25d4753",
   "metadata": {},
   "outputs": [
    {
     "data": {
      "image/png": "[encoded data removed]",
      "text/plain": [
       "<Figure size 872.572x284.278 with 1 Axes>"
      ]
     },
     "execution_count": 62,
     "metadata": {},
     "output_type": "execute_result"
    }
   ],
   "source": [
    "q_circuit_01.draw('mpl')"
   ]
  },
  {
   "cell_type": "code",
   "execution_count": 64,
   "id": "1a7de52f-c51f-4b88-a4d3-954276455627",
   "metadata": {},
   "outputs": [
    {
     "data": {
      "text/html": [
       "<pre style=\"word-wrap: normal;white-space: pre;background: #fff0;line-height: 1.1;font-family: &quot;Courier New&quot;,Courier,monospace\">     ┌───┐┌───┐ ░       ░ ┌───┐ ░         \n",
       "q_0: ┤ X ├┤ H ├─░───────░─┤ X ├─░─────────\n",
       "     └───┘└───┘ ░ ┌───┐ ░ └─┬─┘ ░ ┌───┐┌─┐\n",
       "q_1: ───────────░─┤ H ├─░───■───░─┤ H ├┤M├\n",
       "                ░ └───┘ ░       ░ └───┘└╥┘\n",
       "c: 1/═══════════════════════════════════╩═\n",
       "                                        0 </pre>"
      ],
      "text/plain": [
       "     ┌───┐┌───┐ ░       ░ ┌───┐ ░         \n",
       "q_0: ┤ X ├┤ H ├─░───────░─┤ X ├─░─────────\n",
       "     └───┘└───┘ ░ ┌───┐ ░ └─┬─┘ ░ ┌───┐┌─┐\n",
       "q_1: ───────────░─┤ H ├─░───■───░─┤ H ├┤M├\n",
       "                ░ └───┘ ░       ░ └───┘└╥┘\n",
       "c: 1/═══════════════════════════════════╩═\n",
       "                                        0 "
      ]
     },
     "execution_count": 64,
     "metadata": {},
     "output_type": "execute_result"
    }
   ],
   "source": [
    "q_circuit_01.draw()"
   ]
  },
  {
   "cell_type": "code",
   "execution_count": 66,
   "id": "2b2e18de-7c17-4c7b-a941-da5f5f869321",
   "metadata": {},
   "outputs": [],
   "source": [
    "q_circuit_02 = Quantum_Circuit()"
   ]
  },
  {
   "cell_type": "code",
   "execution_count": 72,
   "id": "6006e430-a2cb-4876-ad14-a03eadc7c8ff",
   "metadata": {},
   "outputs": [
    {
     "data": {
      "image/png": "[encoded data removed]",
      "text/plain": [
       "<Figure size 872.572x284.278 with 1 Axes>"
      ]
     },
     "execution_count": 72,
     "metadata": {},
     "output_type": "execute_result"
    }
   ],
   "source": [
    "q_circuit_02.draw('mpl')"
   ]
  },
  {
   "cell_type": "code",
   "execution_count": 74,
   "id": "48cb21c4-f02a-457b-9274-7611d62b38ec",
   "metadata": {},
   "outputs": [
    {
     "data": {
      "text/html": [
       "<pre style=\"word-wrap: normal;white-space: pre;background: #fff0;line-height: 1.1;font-family: &quot;Courier New&quot;,Courier,monospace\">     ┌───┐┌───┐ ░       ░ ┌───┐ ░         \n",
       "q_0: ┤ X ├┤ H ├─░───────░─┤ X ├─░─────────\n",
       "     └───┘└───┘ ░ ┌───┐ ░ └───┘ ░ ┌───┐┌─┐\n",
       "q_1: ───────────░─┤ H ├─░───────░─┤ H ├┤M├\n",
       "                ░ └───┘ ░       ░ └───┘└╥┘\n",
       "c: 1/═══════════════════════════════════╩═\n",
       "                                        0 </pre>"
      ],
      "text/plain": [
       "     ┌───┐┌───┐ ░       ░ ┌───┐ ░         \n",
       "q_0: ┤ X ├┤ H ├─░───────░─┤ X ├─░─────────\n",
       "     └───┘└───┘ ░ ┌───┐ ░ └───┘ ░ ┌───┐┌─┐\n",
       "q_1: ───────────░─┤ H ├─░───────░─┤ H ├┤M├\n",
       "                ░ └───┘ ░       ░ └───┘└╥┘\n",
       "c: 1/═══════════════════════════════════╩═\n",
       "                                        0 "
      ]
     },
     "execution_count": 74,
     "metadata": {},
     "output_type": "execute_result"
    }
   ],
   "source": [
    "q_circuit_02.draw()"
   ]
  },
  {
   "cell_type": "markdown",
   "id": "dcf7078b-5761-44d2-bd03-55d5c8da48d7",
   "metadata": {},
   "source": [
    "# **if there is any parity among starting qbit and function the result will be one, otherwise zero.**"
   ]
  },
  {
   "cell_type": "code",
   "execution_count": 76,
   "id": "0143d783-72f0-4f97-86b7-32425f446183",
   "metadata": {},
   "outputs": [
    {
     "data": {
      "image/png": "[encoded data removed]",
      "text/plain": [
       "<Figure size 640x480 with 1 Axes>"
      ]
     },
     "execution_count": 76,
     "metadata": {},
     "output_type": "execute_result"
    }
   ],
   "source": [
    "backend = AerSimulator()\n",
    "transpiled_circuit = transpile(q_circuit_01, backend)\n",
    "qjob = backend.run(transpiled_circuit, shots=4096)\n",
    "result = qjob.result()\n",
    "counts = result.get_counts()\n",
    "plot_histogram(counts)"
   ]
  },
  {
   "cell_type": "code",
   "execution_count": 78,
   "id": "f659fd2f-f505-46d5-8cd1-11268bcca17d",
   "metadata": {},
   "outputs": [
    {
     "data": {
      "image/png": "[encoded data removed]",
      "text/plain": [
       "<Figure size 640x480 with 1 Axes>"
      ]
     },
     "execution_count": 78,
     "metadata": {},
     "output_type": "execute_result"
    }
   ],
   "source": [
    "backend = AerSimulator()\n",
    "transpiled_circuit = transpile(q_circuit_02, backend)\n",
    "qjob = backend.run(transpiled_circuit, shots=4096)\n",
    "result = qjob.result()\n",
    "counts = result.get_counts()\n",
    "plot_histogram(counts)"
   ]
  },
  {
   "cell_type": "code",
   "execution_count": null,
   "id": "172c9b16-855b-4211-b02a-6dd0cfe1f7e4",
   "metadata": {},
   "outputs": [],
   "source": []
  },
  {
   "cell_type": "code",
   "execution_count": null,
   "id": "7efc1027-17a0-4dba-b4f6-c600247fefcd",
   "metadata": {},
   "outputs": [],
   "source": []
  },
  {
   "cell_type": "code",
   "execution_count": null,
   "id": "58a8ca0b-206f-4d2b-8aa9-43dbaed370b0",
   "metadata": {},
   "outputs": [],
   "source": []
  }
 ],
 "metadata": {
  "kernelspec": {
   "display_name": "Python [conda env:base] *",
   "language": "python",
   "name": "conda-base-py"
  },
  "language_info": {
   "codemirror_mode": {
    "name": "ipython",
    "version": 3
   },
   "file_extension": ".py",
   "mimetype": "text/x-python",
   "name": "python",
   "nbconvert_exporter": "python",
   "pygments_lexer": "ipython3",
   "version": "3.12.7"
  }
 },
 "nbformat": 4,
 "nbformat_minor": 5
}
